{
 "cells": [
  {
   "cell_type": "code",
   "execution_count": 137,
   "id": "13b4d0ec",
   "metadata": {},
   "outputs": [
    {
     "name": "stdout",
     "output_type": "stream",
     "text": [
      "['apple', 'banana', 'orange']\n",
      "orange\n",
      "['apple', 'banana']\n"
     ]
    }
   ],
   "source": [
    "fruits=[\"apple\",\"banana\",\"orange\"]\n",
    "print(fruits)\n",
    "print(fruits[2])\n",
    "print(fruits[0:2])"
   ]
  },
  {
   "cell_type": "code",
   "execution_count": 138,
   "id": "dc73e098",
   "metadata": {},
   "outputs": [
    {
     "name": "stdout",
     "output_type": "stream",
     "text": [
      "3\n",
      "['banana', 'pineapple', 'orange', 'mango']\n"
     ]
    },
    {
     "data": {
      "text/plain": [
       "'banana'"
      ]
     },
     "execution_count": 138,
     "metadata": {},
     "output_type": "execute_result"
    }
   ],
   "source": [
    "#print(dir(fruits))\n",
    "print(len(fruits))\n",
    "fruits[0]=\"pineapple\"\n",
    "fruits.append('mango')\n",
    "fruits.remove(\"pineapple\")\n",
    "fruits.insert(1,\"pineapple\")\n",
    "print(fruits)\n",
    "fruits.pop(0)\n"
   ]
  },
  {
   "cell_type": "code",
   "execution_count": 139,
   "id": "ac0778ec",
   "metadata": {},
   "outputs": [
    {
     "name": "stdout",
     "output_type": "stream",
     "text": [
      "['apple', 'banana', 'orange', 'pineapple']\n",
      "['pineapple', 'orange', 'banana', 'apple']\n"
     ]
    }
   ],
   "source": [
    "fruits=[\"apple\",\"banana\",\"orange\",\"pineapple\"]\n",
    "fruits.sort()\n",
    "print(fruits)\n",
    "fruits.reverse()\n",
    "print(fruits)"
   ]
  },
  {
   "cell_type": "code",
   "execution_count": 140,
   "id": "18da9582",
   "metadata": {},
   "outputs": [
    {
     "name": "stdout",
     "output_type": "stream",
     "text": [
      "3\n",
      "1\n"
     ]
    }
   ],
   "source": [
    "print(fruits.index(\"apple\"))\n",
    "print(fruits.count(\"pineapple\"))"
   ]
  },
  {
   "cell_type": "code",
   "execution_count": 141,
   "id": "00484f8e",
   "metadata": {},
   "outputs": [
    {
     "name": "stdout",
     "output_type": "stream",
     "text": [
      "True\n",
      "True\n"
     ]
    }
   ],
   "source": [
    "list1=[1,2,3,[4,5]]\n",
    "print(2 in list1)\n",
    "print([4,5] in list1)"
   ]
  },
  {
   "cell_type": "code",
   "execution_count": 142,
   "id": "c4dcfe93",
   "metadata": {},
   "outputs": [
    {
     "name": "stdout",
     "output_type": "stream",
     "text": [
      "[4, 5, [6, 7, 8], 9]\n",
      "[6, 7, 8]\n"
     ]
    }
   ],
   "source": [
    "list=[1,2,3,[4,5,[6,7,8],9]]\n",
    "print(list[3])\n",
    "print(list[3][2])"
   ]
  },
  {
   "cell_type": "code",
   "execution_count": 143,
   "id": "b44b8797",
   "metadata": {},
   "outputs": [
    {
     "name": "stdout",
     "output_type": "stream",
     "text": [
      "{'watermallon', 'orange', 'papaya', 'banana', 'apple'}\n"
     ]
    }
   ],
   "source": [
    "#sets= unorder and immutable\n",
    "fruits={\"apple\",\"orange\",\"banana\",\"watermallon\",\"papaya\"}\n",
    "#we can't alter values but we add or remove elements\n",
    "print(fruits)"
   ]
  },
  {
   "cell_type": "code",
   "execution_count": 144,
   "id": "9d1adaab",
   "metadata": {},
   "outputs": [
    {
     "name": "stdout",
     "output_type": "stream",
     "text": [
      "{'watermallon', 'orange', 'papaya', 'banana', 'apple'}\n"
     ]
    }
   ],
   "source": [
    "#fruits.pop()\n",
    "print(fruits)"
   ]
  },
  {
   "cell_type": "code",
   "execution_count": 145,
   "id": "1fee8a0e",
   "metadata": {},
   "outputs": [],
   "source": [
    "set1={'a','b','c','d'}\n",
    "set1.remove('a')\n",
    "set1.discard('a')"
   ]
  },
  {
   "cell_type": "code",
   "execution_count": 146,
   "id": "5f00820b",
   "metadata": {},
   "outputs": [
    {
     "name": "stdout",
     "output_type": "stream",
     "text": [
      "4\n",
      "('apple', 'orange', 'banana', 'papaya')\n"
     ]
    }
   ],
   "source": [
    "#tuple() ordered and unchangebal, duplicate ok,faster\n",
    "fs=('apple','orange','banana','papaya')\n",
    "print(len(fs))\n",
    "print(fs)"
   ]
  },
  {
   "cell_type": "code",
   "execution_count": 147,
   "id": "623c7740",
   "metadata": {},
   "outputs": [
    {
     "name": "stdout",
     "output_type": "stream",
     "text": [
      "('apple', 'orange', 'banana', 'papaya', 'mango')\n"
     ]
    }
   ],
   "source": [
    "newTuple=('apple','orange','banana','papaya')\n",
    "y=(\"mango\",)\n",
    "newTuple+=y\n",
    "print(newTuple)"
   ]
  },
  {
   "cell_type": "code",
   "execution_count": 148,
   "id": "6612b0ce",
   "metadata": {},
   "outputs": [
    {
     "name": "stdout",
     "output_type": "stream",
     "text": [
      "apple\n",
      "banana\n",
      "['cherry']\n"
     ]
    }
   ],
   "source": [
    "fruit=('apple','banana','cherry')\n",
    "(green,yellow,*red)=fruit\n",
    "print(green)\n",
    "print(yellow)\n",
    "print(red)"
   ]
  },
  {
   "cell_type": "code",
   "execution_count": 149,
   "id": "cc7b7a0c",
   "metadata": {},
   "outputs": [
    {
     "name": "stdout",
     "output_type": "stream",
     "text": [
      "apple\n",
      "['cherry', 'papaya']\n",
      "banana\n"
     ]
    }
   ],
   "source": [
    "fruit=('apple','banana','cherry','papaya')\n",
    "(green,yellow,*red)=fruit\n",
    "print(green)\n",
    "print(red)\n",
    "print(yellow)"
   ]
  },
  {
   "cell_type": "code",
   "execution_count": 150,
   "id": "60ce0085",
   "metadata": {},
   "outputs": [],
   "source": [
    "#nested tuple\n",
    "t=(1,2,(3,4),[\"a\",\"b\"])"
   ]
  },
  {
   "cell_type": "code",
   "execution_count": 151,
   "id": "3bd16cf0",
   "metadata": {},
   "outputs": [
    {
     "name": "stdout",
     "output_type": "stream",
     "text": [
      "[1, 'hello', 3.14, 'true'] (1, 'hello', 3.14, 'true') {1, 3.14, 'hello', 'true'}\n"
     ]
    }
   ],
   "source": [
    "list3=[1,\"hello\",3.14,'true']\n",
    "tuple=(1,\"hello\",3.14,'true')\n",
    "set={1,\"hello\",3.14,'true'}\n",
    "print(list3,tuple,set)"
   ]
  },
  {
   "cell_type": "code",
   "execution_count": 152,
   "id": "423e55ba",
   "metadata": {},
   "outputs": [
    {
     "name": "stdout",
     "output_type": "stream",
     "text": [
      "exist\n"
     ]
    }
   ],
   "source": [
    "fruit=['apple','banana','papaya']\n",
    "a=input(\"enter fruit\")\n",
    "for i in range(len(fruit)):\n",
    "    if fruit[i]==a:\n",
    "        print(\"exist\")\n"
   ]
  },
  {
   "cell_type": "code",
   "execution_count": 153,
   "id": "685ac1fb",
   "metadata": {},
   "outputs": [
    {
     "name": "stdout",
     "output_type": "stream",
     "text": [
      "apple\n",
      "banana\n",
      "papaya\n"
     ]
    }
   ],
   "source": [
    "i=0;\n",
    "while i<len(fruit):\n",
    "    print(fruit[i])\n",
    "    i=i+1"
   ]
  },
  {
   "cell_type": "code",
   "execution_count": 154,
   "id": "34542ffb",
   "metadata": {},
   "outputs": [
    {
     "name": "stdout",
     "output_type": "stream",
     "text": [
      "{1: 'first', 'name': 'alice', 'age': 20, 'courses': ['maths', 'scince']}\n",
      "20\n",
      "20\n"
     ]
    }
   ],
   "source": [
    "#dictionary :- collection of key value pairs\n",
    "student={\n",
    "    1:\"first\",\n",
    "    \"name\":\"alice\",\n",
    "    \"age\":20,\n",
    "    \"courses\":[\"maths\",\"scince\"]\n",
    "}\n",
    "print(student)\n",
    "print(student[\"age\"])\n",
    "print(student.get(\"age\"))"
   ]
  },
  {
   "cell_type": "code",
   "execution_count": 155,
   "id": "29772a81",
   "metadata": {},
   "outputs": [
    {
     "name": "stdout",
     "output_type": "stream",
     "text": [
      "['__class__', '__class_getitem__', '__contains__', '__delattr__', '__delitem__', '__dir__', '__doc__', '__eq__', '__format__', '__ge__', '__getattribute__', '__getitem__', '__getstate__', '__gt__', '__hash__', '__init__', '__init_subclass__', '__ior__', '__iter__', '__le__', '__len__', '__lt__', '__ne__', '__new__', '__or__', '__reduce__', '__reduce_ex__', '__repr__', '__reversed__', '__ror__', '__setattr__', '__setitem__', '__sizeof__', '__str__', '__subclasshook__', 'clear', 'copy', 'fromkeys', 'get', 'items', 'keys', 'pop', 'popitem', 'setdefault', 'update', 'values']\n",
      "Help on dict object:\n",
      "\n",
      "class dict(object)\n",
      " |  dict() -> new empty dictionary\n",
      " |  dict(mapping) -> new dictionary initialized from a mapping object's\n",
      " |      (key, value) pairs\n",
      " |  dict(iterable) -> new dictionary initialized as if via:\n",
      " |      d = {}\n",
      " |      for k, v in iterable:\n",
      " |          d[k] = v\n",
      " |  dict(**kwargs) -> new dictionary initialized with the name=value pairs\n",
      " |      in the keyword argument list.  For example:  dict(one=1, two=2)\n",
      " |\n",
      " |  Methods defined here:\n",
      " |\n",
      " |  __contains__(self, key, /)\n",
      " |      True if the dictionary has the specified key, else False.\n",
      " |\n",
      " |  __delitem__(self, key, /)\n",
      " |      Delete self[key].\n",
      " |\n",
      " |  __eq__(self, value, /)\n",
      " |      Return self==value.\n",
      " |\n",
      " |  __ge__(self, value, /)\n",
      " |      Return self>=value.\n",
      " |\n",
      " |  __getattribute__(self, name, /)\n",
      " |      Return getattr(self, name).\n",
      " |\n",
      " |  __getitem__(self, key, /)\n",
      " |      Return self[key].\n",
      " |\n",
      " |  __gt__(self, value, /)\n",
      " |      Return self>value.\n",
      " |\n",
      " |  __init__(self, /, *args, **kwargs)\n",
      " |      Initialize self.  See help(type(self)) for accurate signature.\n",
      " |\n",
      " |  __ior__(self, value, /)\n",
      " |      Return self|=value.\n",
      " |\n",
      " |  __iter__(self, /)\n",
      " |      Implement iter(self).\n",
      " |\n",
      " |  __le__(self, value, /)\n",
      " |      Return self<=value.\n",
      " |\n",
      " |  __len__(self, /)\n",
      " |      Return len(self).\n",
      " |\n",
      " |  __lt__(self, value, /)\n",
      " |      Return self<value.\n",
      " |\n",
      " |  __ne__(self, value, /)\n",
      " |      Return self!=value.\n",
      " |\n",
      " |  __or__(self, value, /)\n",
      " |      Return self|value.\n",
      " |\n",
      " |  __repr__(self, /)\n",
      " |      Return repr(self).\n",
      " |\n",
      " |  __reversed__(self, /)\n",
      " |      Return a reverse iterator over the dict keys.\n",
      " |\n",
      " |  __ror__(self, value, /)\n",
      " |      Return value|self.\n",
      " |\n",
      " |  __setitem__(self, key, value, /)\n",
      " |      Set self[key] to value.\n",
      " |\n",
      " |  __sizeof__(self, /)\n",
      " |      Return the size of the dict in memory, in bytes.\n",
      " |\n",
      " |  clear(self, /)\n",
      " |      Remove all items from the dict.\n",
      " |\n",
      " |  copy(self, /)\n",
      " |      Return a shallow copy of the dict.\n",
      " |\n",
      " |  get(self, key, default=None, /)\n",
      " |      Return the value for key if key is in the dictionary, else default.\n",
      " |\n",
      " |  items(self, /)\n",
      " |      Return a set-like object providing a view on the dict's items.\n",
      " |\n",
      " |  keys(self, /)\n",
      " |      Return a set-like object providing a view on the dict's keys.\n",
      " |\n",
      " |  pop(self, key, default=<unrepresentable>, /)\n",
      " |      D.pop(k[,d]) -> v, remove specified key and return the corresponding value.\n",
      " |\n",
      " |      If the key is not found, return the default if given; otherwise,\n",
      " |      raise a KeyError.\n",
      " |\n",
      " |  popitem(self, /)\n",
      " |      Remove and return a (key, value) pair as a 2-tuple.\n",
      " |\n",
      " |      Pairs are returned in LIFO (last-in, first-out) order.\n",
      " |      Raises KeyError if the dict is empty.\n",
      " |\n",
      " |  setdefault(self, key, default=None, /)\n",
      " |      Insert key with a value of default if key is not in the dictionary.\n",
      " |\n",
      " |      Return the value for key if key is in the dictionary, else default.\n",
      " |\n",
      " |  update(...)\n",
      " |      D.update([E, ]**F) -> None.  Update D from mapping/iterable E and F.\n",
      " |      If E is present and has a .keys() method, then does:  for k in E.keys(): D[k] = E[k]\n",
      " |      If E is present and lacks a .keys() method, then does:  for k, v in E: D[k] = v\n",
      " |      In either case, this is followed by: for k in F:  D[k] = F[k]\n",
      " |\n",
      " |  values(self, /)\n",
      " |      Return an object providing a view on the dict's values.\n",
      " |\n",
      " |  ----------------------------------------------------------------------\n",
      " |  Class methods defined here:\n",
      " |\n",
      " |  __class_getitem__(object, /)\n",
      " |      See PEP 585\n",
      " |\n",
      " |  fromkeys(iterable, value=None, /)\n",
      " |      Create a new dictionary with keys from iterable and values set to value.\n",
      " |\n",
      " |  ----------------------------------------------------------------------\n",
      " |  Static methods defined here:\n",
      " |\n",
      " |  __new__(*args, **kwargs)\n",
      " |      Create and return a new object.  See help(type) for accurate signature.\n",
      " |\n",
      " |  ----------------------------------------------------------------------\n",
      " |  Data and other attributes defined here:\n",
      " |\n",
      " |  __hash__ = None\n",
      "\n",
      "None\n"
     ]
    }
   ],
   "source": [
    "print(dir(student))\n",
    "print(help(student))"
   ]
  },
  {
   "cell_type": "code",
   "execution_count": 161,
   "id": "0e878c88",
   "metadata": {},
   "outputs": [
    {
     "name": "stdout",
     "output_type": "stream",
     "text": [
      "{1: 'first', 'name': 'alice', 'age': 29, 'courses': ['maths', 'scince'], 'job': 'programmar'}\n"
     ]
    }
   ],
   "source": [
    "student[\"job\"]=\"programmar\"\n",
    "student[\"age\"]=29\n",
    "print(student)"
   ]
  },
  {
   "cell_type": "code",
   "execution_count": 157,
   "id": "4b7c7566",
   "metadata": {},
   "outputs": [
    {
     "name": "stdout",
     "output_type": "stream",
     "text": [
      "Name exixt\n"
     ]
    }
   ],
   "source": [
    "if \"alice\" in student.values():\n",
    "    print(\"Name exixt\")\n",
    "else:\n",
    "    print(\"not exist\")"
   ]
  },
  {
   "cell_type": "code",
   "execution_count": 158,
   "id": "70839e96",
   "metadata": {},
   "outputs": [
    {
     "name": "stdout",
     "output_type": "stream",
     "text": [
      "1\n",
      "name\n",
      "age\n",
      "courses\n",
      "job\n"
     ]
    }
   ],
   "source": [
    "for key in student:\n",
    "    print(key)"
   ]
  },
  {
   "cell_type": "code",
   "execution_count": 159,
   "id": "3bbe6dd9",
   "metadata": {},
   "outputs": [
    {
     "name": "stdout",
     "output_type": "stream",
     "text": [
      "first\n",
      "alice\n",
      "29\n",
      "['maths', 'scince']\n",
      "programmar\n"
     ]
    }
   ],
   "source": [
    "for value in student.values():\n",
    "    print(value)"
   ]
  },
  {
   "cell_type": "code",
   "execution_count": 162,
   "id": "a073caec",
   "metadata": {},
   "outputs": [
    {
     "name": "stdout",
     "output_type": "stream",
     "text": [
      "1 first\n",
      "name alice\n",
      "age 29\n",
      "courses ['maths', 'scince']\n",
      "job programmar\n"
     ]
    }
   ],
   "source": [
    "for key,value in student.items():\n",
    "    print(key,value)"
   ]
  },
  {
   "cell_type": "code",
   "execution_count": 164,
   "id": "2fe0b296",
   "metadata": {},
   "outputs": [
    {
     "name": "stdout",
     "output_type": "stream",
     "text": [
      "{0: 0, 1: 1, 2: 4, 3: 9, 4: 16, 5: 25}\n"
     ]
    }
   ],
   "source": [
    "squres={x:x*x for x in range(6)}\n",
    "print(squres)"
   ]
  }
 ],
 "metadata": {
  "kernelspec": {
   "display_name": "Python 3",
   "language": "python",
   "name": "python3"
  },
  "language_info": {
   "codemirror_mode": {
    "name": "ipython",
    "version": 3
   },
   "file_extension": ".py",
   "mimetype": "text/x-python",
   "name": "python",
   "nbconvert_exporter": "python",
   "pygments_lexer": "ipython3",
   "version": "3.13.1"
  }
 },
 "nbformat": 4,
 "nbformat_minor": 5
}
